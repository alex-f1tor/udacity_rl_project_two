{
 "cells": [
  {
   "cell_type": "markdown",
   "metadata": {},
   "source": [
    "# Continuous Control\n",
    "\n",
    "---\n",
    "\n",
    "In this notebook, you will learn how to use the Unity ML-Agents environment for the second project of the [Deep Reinforcement Learning Nanodegree](https://www.udacity.com/course/deep-reinforcement-learning-nanodegree--nd893) program.\n",
    "\n",
    "### 1. Start the Environment\n",
    "\n",
    "We begin by importing the necessary packages.  If the code cell below returns an error, please revisit the project instructions to double-check that you have installed [Unity ML-Agents](https://github.com/Unity-Technologies/ml-agents/blob/master/docs/Installation.md) and [NumPy](http://www.numpy.org/)."
   ]
  },
  {
   "cell_type": "code",
   "execution_count": 1,
   "metadata": {},
   "outputs": [],
   "source": [
    "from unityagents import UnityEnvironment\n",
    "import numpy as np"
   ]
  },
  {
   "cell_type": "markdown",
   "metadata": {},
   "source": [
    "Next, we will start the environment!  **_Before running the code cell below_**, change the `file_name` parameter to match the location of the Unity environment that you downloaded.\n",
    "\n",
    "- **Mac**: `\"path/to/Reacher.app\"`\n",
    "- **Windows** (x86): `\"path/to/Reacher_Windows_x86/Reacher.exe\"`\n",
    "- **Windows** (x86_64): `\"path/to/Reacher_Windows_x86_64/Reacher.exe\"`\n",
    "- **Linux** (x86): `\"path/to/Reacher_Linux/Reacher.x86\"`\n",
    "- **Linux** (x86_64): `\"path/to/Reacher_Linux/Reacher.x86_64\"`\n",
    "- **Linux** (x86, headless): `\"path/to/Reacher_Linux_NoVis/Reacher.x86\"`\n",
    "- **Linux** (x86_64, headless): `\"path/to/Reacher_Linux_NoVis/Reacher.x86_64\"`\n",
    "\n",
    "For instance, if you are using a Mac, then you downloaded `Reacher.app`.  If this file is in the same folder as the notebook, then the line below should appear as follows:\n",
    "```\n",
    "env = UnityEnvironment(file_name=\"Reacher.app\")\n",
    "```"
   ]
  },
  {
   "cell_type": "code",
   "execution_count": 2,
   "metadata": {},
   "outputs": [
    {
     "name": "stderr",
     "output_type": "stream",
     "text": [
      "INFO:unityagents:\n",
      "'Academy' started successfully!\n",
      "Unity Academy name: Academy\n",
      "        Number of Brains: 1\n",
      "        Number of External Brains : 1\n",
      "        Lesson number : 0\n",
      "        Reset Parameters :\n",
      "\t\tgoal_speed -> 1.0\n",
      "\t\tgoal_size -> 5.0\n",
      "Unity brain name: ReacherBrain\n",
      "        Number of Visual Observations (per agent): 0\n",
      "        Vector Observation space type: continuous\n",
      "        Vector Observation space size (per agent): 33\n",
      "        Number of stacked Vector Observation: 1\n",
      "        Vector Action space type: continuous\n",
      "        Vector Action space size (per agent): 4\n",
      "        Vector Action descriptions: , , , \n"
     ]
    }
   ],
   "source": [
    "env = UnityEnvironment(file_name='./Reacher_Linux_v2/Reacher.x86_64')"
   ]
  },
  {
   "cell_type": "markdown",
   "metadata": {},
   "source": [
    "Environments contain **_brains_** which are responsible for deciding the actions of their associated agents. Here we check for the first brain available, and set it as the default brain we will be controlling from Python."
   ]
  },
  {
   "cell_type": "code",
   "execution_count": 3,
   "metadata": {},
   "outputs": [],
   "source": [
    "# get the default brain\n",
    "brain_name = env.brain_names[0]\n",
    "brain = env.brains[brain_name]"
   ]
  },
  {
   "cell_type": "markdown",
   "metadata": {},
   "source": [
    "### 2. Examine the State and Action Spaces\n",
    "\n",
    "In this environment, a double-jointed arm can move to target locations. A reward of `+0.1` is provided for each step that the agent's hand is in the goal location. Thus, the goal of your agent is to maintain its position at the target location for as many time steps as possible.\n",
    "\n",
    "The observation space consists of `33` variables corresponding to position, rotation, velocity, and angular velocities of the arm.  Each action is a vector with four numbers, corresponding to torque applicable to two joints.  Every entry in the action vector must be a number between `-1` and `1`.\n",
    "\n",
    "Run the code cell below to print some information about the environment."
   ]
  },
  {
   "cell_type": "code",
   "execution_count": 4,
   "metadata": {},
   "outputs": [
    {
     "name": "stdout",
     "output_type": "stream",
     "text": [
      "Number of agents: 20\n",
      "Size of each action: 4\n",
      "There are 20 agents. Each observes a state with length: 33\n",
      "The state for the first agent looks like: [ 0.00000000e+00 -4.00000000e+00  0.00000000e+00  1.00000000e+00\n",
      " -0.00000000e+00 -0.00000000e+00 -4.37113883e-08  0.00000000e+00\n",
      "  0.00000000e+00  0.00000000e+00  0.00000000e+00  0.00000000e+00\n",
      "  0.00000000e+00  0.00000000e+00 -1.00000000e+01  0.00000000e+00\n",
      "  1.00000000e+00 -0.00000000e+00 -0.00000000e+00 -4.37113883e-08\n",
      "  0.00000000e+00  0.00000000e+00  0.00000000e+00  0.00000000e+00\n",
      "  0.00000000e+00  0.00000000e+00  5.75471878e+00 -1.00000000e+00\n",
      "  5.55726624e+00  0.00000000e+00  1.00000000e+00  0.00000000e+00\n",
      " -1.68164849e-01]\n"
     ]
    }
   ],
   "source": [
    "# reset the environment\n",
    "env_info = env.reset(train_mode=True)[brain_name]\n",
    "\n",
    "# number of agents\n",
    "num_agents = len(env_info.agents)\n",
    "print('Number of agents:', num_agents)\n",
    "\n",
    "# size of each action\n",
    "action_size = brain.vector_action_space_size\n",
    "print('Size of each action:', action_size)\n",
    "\n",
    "T = 8\n",
    "episodes = 100000\n",
    "# examine the state space \n",
    "states = env_info.vector_observations\n",
    "state_size = states.shape[1]\n",
    "print('There are {} agents. Each observes a state with length: {}'.format(states.shape[0], state_size))\n",
    "print('The state for the first agent looks like:', states[0])"
   ]
  },
  {
   "cell_type": "markdown",
   "metadata": {},
   "source": [
    "### 3. Take Random Actions in the Environment\n",
    "\n",
    "In the next code cell, you will learn how to use the Python API to control the agent and receive feedback from the environment.\n",
    "\n",
    "Once this cell is executed, you will watch the agent's performance, if it selects an action at random with each time step.  A window should pop up that allows you to observe the agent, as it moves through the environment.  \n",
    "\n",
    "Of course, as part of the project, you'll have to change the code so that the agent is able to use its experience to gradually choose better actions when interacting with the environment!"
   ]
  },
  {
   "cell_type": "code",
   "execution_count": 5,
   "metadata": {
    "scrolled": true
   },
   "outputs": [],
   "source": [
    "from ddpg_agent20 import Agent, ReplayBuffer\n",
    "from collections import deque\n",
    "import torch\n",
    "scores = np.zeros(num_agents)   # initialize zero-value the score (for each agent)                       "
   ]
  },
  {
   "cell_type": "code",
   "execution_count": 11,
   "metadata": {
    "scrolled": true
   },
   "outputs": [
    {
     "name": "stderr",
     "output_type": "stream",
     "text": [
      "/home/f1tor/tf_gpu/lib/python3.6/site-packages/ipykernel_launcher.py:106: UserWarning: torch.nn.utils.clip_grad_norm is now deprecated in favor of torch.nn.utils.clip_grad_norm_.\n"
     ]
    },
    {
     "name": "stdout",
     "output_type": "stream",
     "text": [
      "Episode:1, Average Score:0.42\n",
      "Episode:2, Average Score:0.46\n",
      "Episode:3, Average Score:0.63\n",
      "Episode:4, Average Score:0.72\n",
      "Episode:5, Average Score:0.76\n",
      "Episode:6, Average Score:0.79\n",
      "Episode:7, Average Score:0.91\n",
      "Episode:8, Average Score:1.10\n",
      "Episode:9, Average Score:1.24\n",
      "Episode:10, Average Score:1.39\n",
      "Episode:11, Average Score:1.54\n",
      "Episode:12, Average Score:1.62\n",
      "Episode:13, Average Score:1.79\n",
      "Episode:14, Average Score:2.01\n",
      "Episode:15, Average Score:2.28\n",
      "Episode:16, Average Score:2.53\n",
      "Episode:17, Average Score:2.92\n",
      "Episode:18, Average Score:3.43\n",
      "Episode:19, Average Score:4.04\n",
      "Episode:20, Average Score:4.70\n",
      "Episode:21, Average Score:5.61\n",
      "Episode:22, Average Score:6.38\n",
      "Episode:23, Average Score:7.38\n",
      "Episode:24, Average Score:8.33\n",
      "Episode:25, Average Score:9.27\n",
      "Episode:26, Average Score:10.20\n",
      "Episode:27, Average Score:11.12\n",
      "Episode:28, Average Score:12.03\n",
      "Episode:29, Average Score:12.90\n",
      "Episode:30, Average Score:13.67\n",
      "Episode:31, Average Score:14.36\n",
      "Episode:32, Average Score:15.05\n",
      "Episode:33, Average Score:15.66\n",
      "Episode:34, Average Score:16.27\n",
      "Episode:35, Average Score:16.81\n",
      "Episode:36, Average Score:17.29\n",
      "Episode:37, Average Score:17.74\n",
      "Episode:38, Average Score:18.16\n",
      "Episode:39, Average Score:18.55\n",
      "Episode:40, Average Score:18.88\n",
      "Episode:41, Average Score:19.24\n",
      "Episode:42, Average Score:19.64\n",
      "Episode:43, Average Score:20.03\n",
      "Episode:44, Average Score:20.37\n",
      "Episode:45, Average Score:20.71\n",
      "Episode:46, Average Score:21.01\n",
      "Episode:47, Average Score:21.33\n",
      "Episode:48, Average Score:21.64\n",
      "Episode:49, Average Score:21.96\n",
      "Episode:50, Average Score:22.29\n",
      "Episode:51, Average Score:22.60\n",
      "Episode:52, Average Score:22.89\n",
      "Episode:53, Average Score:23.15\n",
      "Episode:54, Average Score:23.39\n",
      "Episode:55, Average Score:23.63\n",
      "Episode:56, Average Score:23.87\n",
      "Episode:57, Average Score:24.07\n",
      "Episode:58, Average Score:24.24\n",
      "Episode:59, Average Score:24.44\n",
      "Episode:60, Average Score:24.62\n",
      "Episode:61, Average Score:24.81\n",
      "Episode:62, Average Score:24.95\n",
      "Episode:63, Average Score:25.11\n",
      "Episode:64, Average Score:25.28\n",
      "Episode:65, Average Score:25.44\n",
      "Episode:66, Average Score:25.58\n",
      "Episode:67, Average Score:25.74\n",
      "Episode:68, Average Score:25.89\n",
      "Episode:69, Average Score:26.04\n",
      "Episode:70, Average Score:26.21\n",
      "Episode:71, Average Score:26.36\n",
      "Episode:72, Average Score:26.50\n",
      "Episode:73, Average Score:26.64\n",
      "Episode:74, Average Score:26.75\n",
      "Episode:75, Average Score:26.86\n",
      "Episode:76, Average Score:26.97\n",
      "Episode:77, Average Score:27.10\n",
      "Episode:78, Average Score:27.19\n",
      "Episode:79, Average Score:27.30\n",
      "Episode:80, Average Score:27.41\n",
      "Episode:81, Average Score:27.52\n",
      "Episode:82, Average Score:27.63\n",
      "Episode:83, Average Score:27.74\n",
      "Episode:84, Average Score:27.84\n",
      "Episode:85, Average Score:27.93\n",
      "Episode:86, Average Score:28.03\n",
      "Episode:87, Average Score:28.11\n",
      "Episode:88, Average Score:28.20\n",
      "Episode:89, Average Score:28.29\n",
      "Episode:90, Average Score:28.38\n",
      "Episode:91, Average Score:28.47\n",
      "Episode:92, Average Score:28.56\n",
      "Episode:93, Average Score:28.65\n",
      "Episode:94, Average Score:28.72\n",
      "Episode:95, Average Score:28.79\n",
      "Episode:96, Average Score:28.87\n",
      "Episode:97, Average Score:28.94\n",
      "Episode:98, Average Score:29.02\n",
      "Episode:99, Average Score:29.09\n",
      "Episode:100, Average Score:29.14\n",
      "Episode:101, Average Score:29.50\n",
      "Episode:102, Average Score:29.85\n",
      "Episode:103, Average Score:30.21\n",
      "Average score of 30 achieved\n"
     ]
    }
   ],
   "source": [
    "episodes = 1200\n",
    "\n",
    "reward_list = []\n",
    "\n",
    "agent = Agent(state_size=state_size, action_size=action_size, random_seed=0)\n",
    "scores_mean = deque(maxlen=100)\n",
    "scores = []\n",
    "best_score = 0\n",
    "best_average_score = 0\n",
    "episodes=2000\n",
    "max_steps=1000\n",
    "scores_mean = deque(maxlen=100)\n",
    "\n",
    "\n",
    "for episode in range(1, episodes+1):\n",
    "\n",
    "    env_info = env.reset(train_mode=True)[brain_name]     # reset the environment    \n",
    "    cur_states = env_info.vector_observations  \n",
    "    agent.reset()\n",
    "    scores_agents = np.zeros(num_agents)      \n",
    "    \n",
    "    \n",
    "    for step in range(max_steps):\n",
    "        actions = agent.act(cur_states)\n",
    "        env_info = env.step(actions)[brain_name]     \n",
    "        next_states = env_info.vector_observations   \n",
    "        rewards = env_info.rewards                   \n",
    "        dones = env_info.local_done                  \n",
    "        agent.step(cur_states, actions, rewards, next_states, dones, step)\n",
    "        cur_states = next_states\n",
    "        scores_agents += rewards\n",
    "        if np.any(dones):\n",
    "            break\n",
    "    \n",
    "    score = np.mean(scores_agents)\n",
    "    scores_mean.append(score)\n",
    "    average_score = np.mean(scores_mean)\n",
    "    scores.append(score)\n",
    "    if score > best_score:\n",
    "        best_score = score\n",
    "    if average_score > best_average_score:\n",
    "        best_average_score = average_score\n",
    "    print(\"Episode:{}, Average Score:{:.2f}\".format(episode, average_score))\n",
    "    if average_score > 30:\n",
    "        torch.save(agent.actor_local.state_dict(), 'checkpoint_actor.pth')\n",
    "        torch.save(agent.critic_local.state_dict(), 'checkpoint_critic.pth')\n",
    "        print(\"Average score of 30 achieved\")            \n",
    "        break\n",
    "    \n",
    "env.close()"
   ]
  },
  {
   "cell_type": "code",
   "execution_count": 6,
   "metadata": {},
   "outputs": [
    {
     "name": "stderr",
     "output_type": "stream",
     "text": [
      "/home/f1tor/data_nvme/sash/udacity_course/deep-reinforcement-learning/p2_continuous-control/ddpg_agent20.py:127: UserWarning: torch.nn.utils.clip_grad_norm is now deprecated in favor of torch.nn.utils.clip_grad_norm_.\n",
      "  torch.nn.utils.clip_grad_norm(self.critic_local.parameters(), 1)\n"
     ]
    }
   ],
   "source": [
    "#env.reset()[brain_name].vector_observations[0]\n",
    "import torch\n",
    "from ddpg_agent20 import Agent, ReplayBuffer\n",
    "from collections import deque\n",
    "from time import sleep\n",
    "\n",
    "num_agents=20\n",
    "agent = Agent(state_size=state_size, action_size=action_size, random_seed=0)\n",
    "\n",
    "agent.actor_local.load_state_dict(torch.load('checkpoint_actor.pth'))\n",
    "agent.critic_local.load_state_dict(torch.load('checkpoint_critic.pth'))\n",
    "\n",
    "\n",
    "env_info = env.reset(train_mode=False)[brain_name]     # reset the environment    \n",
    "cur_states = env_info.vector_observations  \n",
    "agent.reset()\n",
    "scores_agents = np.zeros(num_agents)\n",
    "\n",
    "for step in range(1100):\n",
    "    actions = agent.act(cur_states)\n",
    "    env_info = env.step(actions)[brain_name]     \n",
    "    next_states = env_info.vector_observations   \n",
    "    rewards = env_info.rewards                   \n",
    "    dones = env_info.local_done                  \n",
    "    agent.step(cur_states, actions, rewards, next_states, dones, step)\n",
    "    cur_states = next_states\n",
    "    scores_agents += rewards\n",
    "    if np.any(dones):\n",
    "        break\n",
    "\n",
    "            \n",
    "env.close()"
   ]
  },
  {
   "cell_type": "markdown",
   "metadata": {},
   "source": [
    "When finished, you can close the environment."
   ]
  },
  {
   "cell_type": "markdown",
   "metadata": {},
   "source": [
    "### 4. It's Your Turn!\n",
    "\n",
    "Now it's your turn to train your own agent to solve the environment!  When training the environment, set `train_mode=True`, so that the line for resetting the environment looks like the following:\n",
    "```python\n",
    "env_info = env.reset(train_mode=True)[brain_name]\n",
    "```"
   ]
  }
 ],
 "metadata": {
  "kernelspec": {
   "display_name": "Python 3",
   "language": "python",
   "name": "python3"
  },
  "language_info": {
   "codemirror_mode": {
    "name": "ipython",
    "version": 3
   },
   "file_extension": ".py",
   "mimetype": "text/x-python",
   "name": "python",
   "nbconvert_exporter": "python",
   "pygments_lexer": "ipython3",
   "version": "3.6.8"
  }
 },
 "nbformat": 4,
 "nbformat_minor": 2
}
